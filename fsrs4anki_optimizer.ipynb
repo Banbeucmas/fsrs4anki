{
  "cells": [
    {
      "cell_type": "markdown",
      "metadata": {
        "colab_type": "text",
        "id": "view-in-github"
      },
      "source": [
        "<a href=\"https://colab.research.google.com/github/open-spaced-repetition/fsrs4anki/blob/main/fsrs4anki_optimizer.ipynb\" target=\"_parent\"><img src=\"https://colab.research.google.com/assets/colab-badge.svg\" alt=\"Open In Colab\"/></a>"
      ]
    },
    {
      "cell_type": "markdown",
      "metadata": {
        "id": "wG7bBfGJFbMr"
      },
      "source": [
        "Upload your Anki Collection Package file or Anki Deck Package file. No need to include media. Need to include scheduling information.\n",
        "\n",
        "You can export it via `File -> Export...` or `Ctrl + E` in the main window of Anki.\n",
        "\n",
        "Then replace the `filename` with yours in the next code cell. And set the `timezone` and `next_day_starts_at` which can be found in your preferences of Anki.\n",
        "\n",
        "After that, just run all (`Runtime -> Run all` or `Ctrl + F9`).\n",
        "\n",
        "> This notebook is the dev version. The stable version of the fsrs4anki optimizer is released on [fsrs4anki/fsrs4anki_optimizer.ipynb at main · open-spaced-repetition/fsrs4anki (github.com)](https://github.com/open-spaced-repetition/fsrs4anki/blob/main/fsrs4anki_optimizer.ipynb)."
      ]
    },
    {
      "cell_type": "code",
      "execution_count": 1,
      "metadata": {
        "id": "iqP70_-3EUhi"
      },
      "outputs": [],
      "source": [
        "# Here are some settings that you need to replace before running this optimizer.\n",
        "\n",
        "filename = \"ALL__Learning.apkg\" \n",
        "# If you upload deck file, replace it with your deck filename. E.g., ALL__Learning.apkg \n",
        "# If you upload collection file, replace it with your colpgk filename. E.g., collection-2022-09-18@13-21-58.colpkg\n",
        "\n",
        "timezone = 'Asia/Shanghai'  # Replace it with your timezone. I'm in China, so I use Asia/Shanghai.\n",
        "\n",
        "next_day_starts_at = 4  # Replace it with your Anki's setting in Prefernces -> Scheduling."
      ]
    },
    {
      "cell_type": "code",
      "execution_count": 2,
      "metadata": {
        "colab": {
          "base_uri": "https://localhost:8080/"
        },
        "id": "KD2js_wEr_Bs",
        "outputId": "97a47374-c8da-4d83-a8a9-8e5739a42f16"
      },
      "outputs": [
        {
          "name": "stdout",
          "output_type": "stream",
          "text": [
            "Extract successfully!\n"
          ]
        }
      ],
      "source": [
        "import zipfile\n",
        "# Extract the collection file or deck file to get the .anki21 database.\n",
        "with zipfile.ZipFile(f'./{filename}', 'r') as zip_ref:\n",
        "    zip_ref.extractall('./')\n",
        "    print(\"Extract successfully!\")"
      ]
    },
    {
      "cell_type": "code",
      "execution_count": 3,
      "metadata": {
        "id": "FopqtQ7mMbA4"
      },
      "outputs": [],
      "source": [
        "import sqlite3\n",
        "import time\n",
        "import tqdm\n",
        "import pandas as pd\n",
        "from datetime import timedelta\n",
        "from tqdm import tqdm"
      ]
    },
    {
      "cell_type": "markdown",
      "metadata": {
        "id": "dKpy4VfqGmaL"
      },
      "source": [
        "The following code cell will extract the review logs from your Anki collection and preprocess them to a trainset which is saved in `revlog_history.tsv`.\n",
        "\n",
        " The time-series features are important in optimizing the model's parameters. For more detail, please see my paper: https://www.maimemo.com/paper/"
      ]
    },
    {
      "cell_type": "code",
      "execution_count": 4,
      "metadata": {
        "colab": {
          "base_uri": "https://localhost:8080/"
        },
        "id": "J2IIaY3PDaaG",
        "outputId": "149f3dc5-3951-445b-e343-7de45d91a677"
      },
      "outputs": [
        {
          "name": "stdout",
          "output_type": "stream",
          "text": [
            "revlog.csv saved!\n"
          ]
        },
        {
          "name": "stderr",
          "output_type": "stream",
          "text": [
            "100%|██████████| 5166/5166 [00:53<00:00, 96.45it/s] \n"
          ]
        },
        {
          "name": "stdout",
          "output_type": "stream",
          "text": [
            "Trainset saved!\n"
          ]
        }
      ],
      "source": [
        "con = sqlite3.connect(\"collection.anki21\")\n",
        "cur = con.cursor()\n",
        "res = cur.execute(\"SELECT * FROM revlog\")\n",
        "revlog = res.fetchall()\n",
        "\n",
        "df = pd.DataFrame(revlog)\n",
        "df.columns = ['id', 'cid', 'usn', 'r', 'ivl', 'last_lvl', 'factor', 'time', 'type']\n",
        "df = df[(df['cid'] <= time.time() * 1000) & (df['id'] <= time.time() * 1000)].copy()\n",
        "df['create_date'] = pd.to_datetime(df['cid'] // 1000, unit='s')\n",
        "df['create_date'] = df['create_date'].dt.tz_localize('UTC').dt.tz_convert(timezone)\n",
        "df['review_date'] = pd.to_datetime(df['id'] // 1000, unit='s')\n",
        "df['review_date'] = df['review_date'].dt.tz_localize('UTC').dt.tz_convert(timezone)\n",
        "df.sort_values(by=['cid', 'id'], inplace=True, ignore_index=True)\n",
        "df.to_csv(\"revlog.csv\", index=False)\n",
        "print(\"revlog.csv saved!\")\n",
        "df = df[(df['type'] == 0) | (df['type'] == 1)].copy()\n",
        "df['real_date'] = df['review_date'].map(lambda x: x - timedelta(days=1) if x.hour < next_day_starts_at else x)\n",
        "df['real_date'] = df['real_date'].dt.floor('D')\n",
        "df.drop(df[df['real_date'].dt.year < 2006].index, inplace=True)\n",
        "df.drop_duplicates(['cid', 'real_date'], keep='first', inplace=True)\n",
        "df['delta_t'] = df.real_date.diff().dt.days\n",
        "df.dropna(inplace=True)\n",
        "df['delta_t'] = df['delta_t'].astype(dtype=int)\n",
        "df['i'] = 1\n",
        "df['r_history'] = \"\"\n",
        "df['t_history'] = \"\"\n",
        "col_idx = {key: i for i, key in enumerate(df.columns)}\n",
        "\n",
        "\n",
        "# code from https://github.com/L-M-Sherlock/anki_revlog_analysis/blob/main/revlog_analysis.py\n",
        "def get_feature(x):\n",
        "    for idx, log in enumerate(x.itertuples()):\n",
        "        if idx == 0:\n",
        "            x.iloc[idx, col_idx['delta_t']] = 0\n",
        "        if idx == x.shape[0] - 1:\n",
        "            break\n",
        "        x.iloc[idx + 1, col_idx['i']] = x.iloc[idx, col_idx['i']] + 1\n",
        "        x.iloc[idx + 1, col_idx['t_history']] = f\"{x.iloc[idx, col_idx['t_history']]},{x.iloc[idx, col_idx['delta_t']]}\"\n",
        "        x.iloc[idx + 1, col_idx['r_history']] = f\"{x.iloc[idx, col_idx['r_history']]},{x.iloc[idx, col_idx['r']]}\"\n",
        "    return x\n",
        "\n",
        "\n",
        "tqdm.pandas()\n",
        "df = df.groupby('cid', as_index=False).progress_apply(get_feature)\n",
        "df[\"t_history\"] = df[\"t_history\"].map(lambda x: x[1:] if len(x) > 1 else x)\n",
        "df[\"r_history\"] = df[\"r_history\"].map(lambda x: x[1:] if len(x) > 1 else x)\n",
        "df.to_csv('revlog_history.tsv', sep=\"\\t\", index=False)\n",
        "print(\"Trainset saved!\")"
      ]
    },
    {
      "cell_type": "code",
      "execution_count": 5,
      "metadata": {
        "id": "t_mnh8rqgyhs"
      },
      "outputs": [],
      "source": [
        "import math\n",
        "import sys\n",
        "import torch\n",
        "import datetime\n",
        "import numpy as np\n",
        "import matplotlib.pyplot as plt\n",
        "from torch import nn\n",
        "from sklearn.utils import shuffle"
      ]
    },
    {
      "cell_type": "markdown",
      "metadata": {
        "id": "8ciBtn8FHAIq"
      },
      "source": [
        "The default parameters of FSRS."
      ]
    },
    {
      "cell_type": "code",
      "execution_count": 17,
      "metadata": {
        "id": "KYugxP_DhMfm"
      },
      "outputs": [],
      "source": [
        "defaultDifficulty = 5\n",
        "defaultStability = 2\n",
        "increaseFactor = 3\n",
        "difficultyDecay = -0.7\n",
        "stabilityDecay = -0.2\n",
        "retrievabilityFactor = 1\n",
        "lapsesBase = -0.3"
      ]
    },
    {
      "cell_type": "markdown",
      "metadata": {
        "id": "WrfBJjqCHEwJ"
      },
      "source": [
        "FSRS is a time-series model for predicting memory states."
      ]
    },
    {
      "cell_type": "code",
      "execution_count": 18,
      "metadata": {
        "id": "tdYp3GMLhTYm"
      },
      "outputs": [],
      "source": [
        "class FSRS(nn.Module):\n",
        "    def __init__(self):\n",
        "        super(FSRS, self).__init__()\n",
        "        self.f_s = nn.Parameter(torch.FloatTensor([defaultStability]))\n",
        "        # init stability\n",
        "        self.f_d = nn.Parameter(torch.FloatTensor([defaultDifficulty]))\n",
        "        # init difficulty\n",
        "        self.s_w = nn.Parameter(torch.FloatTensor(\n",
        "            [increaseFactor, difficultyDecay, stabilityDecay, retrievabilityFactor, lapsesBase]))\n",
        "        self.zero = torch.FloatTensor([0.0])\n",
        "\n",
        "    def forward(self, x, s, d, l):\n",
        "        '''\n",
        "        :param x: [review interval, review response]\n",
        "        :param s: stability\n",
        "        :param d: difficulty\n",
        "        :param l: lapses\n",
        "        :return:\n",
        "        '''\n",
        "        if torch.equal(s, torch.FloatTensor([0.0])):\n",
        "            # first learn, init memory states\n",
        "            next_s = self.f_s[0] * 0.25 * torch.pow(2, x[1] - 1)\n",
        "            next_d = self.f_d[0] - x[1] + 3\n",
        "            next_l = torch.relu(2-x[1])\n",
        "        else:\n",
        "            r = torch.exp(np.log(0.9) * x[0] / s)\n",
        "            next_s = (1 - torch.relu(2-x[1])) * s * \\\n",
        "                             (1 + torch.exp(self.s_w[0]) * torch.pow(d + 0.1, self.s_w[1]) *\n",
        "                              torch.pow(s, self.s_w[2]) *\n",
        "                              (torch.exp((1 - r) * self.s_w[3]) - 1)) + \\\n",
        "                             torch.relu(2-x[1]) * self.f_s[0] * torch.exp(self.s_w[4] * l)\n",
        "            next_d = torch.relu(d + r - 0.25 * torch.pow(2, x[1] - 1) + 0.1)\n",
        "            next_l = l + torch.relu(2-x[1])\n",
        "        return next_s, next_d, next_l\n",
        "\n",
        "    def loss(self, s, t, r):\n",
        "        return - (r * np.log(0.9) * t / s + (1 - r) * torch.log(1 - torch.exp(np.log(0.9) * t / s)))\n",
        "\n",
        "\n",
        "class WeightClipper(object):\n",
        "    def __init__(self, frequency=1):\n",
        "        self.frequency = frequency\n",
        "\n",
        "    def __call__(self, module):\n",
        "        if hasattr(module, 'f_s'):\n",
        "            w = module.f_s.data\n",
        "            w = w.clamp(0.1, 10)\n",
        "            module.f_s.data = w\n",
        "        if hasattr(module, 'f_d'):\n",
        "            w = module.f_d.data\n",
        "            w = w.clamp(1, 10)\n",
        "            module.f_d.data = w\n",
        "        if hasattr(module, 's_w'):\n",
        "            w = module.s_w.data\n",
        "            w[0] = w[0].clamp(0.01, 10)  # increaseFactor\n",
        "            w[1] = w[1].clamp(-1, -0.01)  # difficultyDecay\n",
        "            w[2] = w[2].clamp(-1, -0.01)  # stabilityDecay\n",
        "            w[3] = w[3].clamp(0.01, 10)  # retrievabilityFactor\n",
        "            w[4] = w[4].clamp(-1, -0.01)  # lapsesBase\n",
        "            module.s_w.data = w\n",
        "\n",
        "\n",
        "def lineToTensor(line):\n",
        "    ivl = line[0].split(',')\n",
        "    response = line[1].split(',')\n",
        "    tensor = torch.zeros(len(response), 2)\n",
        "    for li, response in enumerate(response):\n",
        "        tensor[li][0] = int(ivl[li])\n",
        "        tensor[li][1] = int(response)\n",
        "    return tensor"
      ]
    },
    {
      "cell_type": "markdown",
      "metadata": {
        "id": "8E1dYfgQLZAC"
      },
      "source": [
        "Training approximately spends (the number of logs / 10000) minutes to optimize the parameters."
      ]
    },
    {
      "cell_type": "code",
      "execution_count": 19,
      "metadata": {
        "colab": {
          "base_uri": "https://localhost:8080/"
        },
        "id": "Jht0gneShowU",
        "outputId": "de6d7b1d-9069-42f0-b3fd-c98f9fa9ba52"
      },
      "outputs": [
        {
          "name": "stderr",
          "output_type": "stream",
          "text": [
            "100%|██████████| 56910/56910 [00:07<00:00, 7382.72it/s] \n"
          ]
        },
        {
          "name": "stdout",
          "output_type": "stream",
          "text": [
            "Tensorized!\n",
            "\n",
            "iteration: 1\n",
            "f_s: Parameter containing:\n",
            "tensor([1.9999], requires_grad=True)\n",
            "f_d: Parameter containing:\n",
            "tensor([4.9999], requires_grad=True)\n",
            "s_w: Parameter containing:\n",
            "tensor([ 3.0001, -0.6999, -0.1999,  1.0001, -0.2999], requires_grad=True)\n",
            "\n",
            "iteration: 5692\n",
            "f_s: Parameter containing:\n",
            "tensor([2.0368], requires_grad=True)\n",
            "f_d: Parameter containing:\n",
            "tensor([4.9003], requires_grad=True)\n",
            "s_w: Parameter containing:\n",
            "tensor([ 3.0831, -0.6272, -0.1495,  1.0813, -0.2776], requires_grad=True)\n",
            "\n",
            "iteration: 11383\n",
            "f_s: Parameter containing:\n",
            "tensor([2.0937], requires_grad=True)\n",
            "f_d: Parameter containing:\n",
            "tensor([4.8334], requires_grad=True)\n",
            "s_w: Parameter containing:\n",
            "tensor([ 3.1344, -0.5846, -0.1229,  1.1321, -0.2554], requires_grad=True)\n",
            "\n",
            "iteration: 17074\n",
            "f_s: Parameter containing:\n",
            "tensor([2.1703], requires_grad=True)\n",
            "f_d: Parameter containing:\n",
            "tensor([4.7928], requires_grad=True)\n",
            "s_w: Parameter containing:\n",
            "tensor([ 3.1569, -0.5707, -0.1132,  1.1538, -0.2170], requires_grad=True)\n",
            "\n",
            "iteration: 22765\n",
            "f_s: Parameter containing:\n",
            "tensor([2.2089], requires_grad=True)\n",
            "f_d: Parameter containing:\n",
            "tensor([4.7729], requires_grad=True)\n",
            "s_w: Parameter containing:\n",
            "tensor([ 3.1608, -0.5745, -0.1240,  1.1582, -0.2007], requires_grad=True)\n",
            "\n",
            "iteration: 28456\n",
            "f_s: Parameter containing:\n",
            "tensor([2.2952], requires_grad=True)\n",
            "f_d: Parameter containing:\n",
            "tensor([4.7431], requires_grad=True)\n",
            "s_w: Parameter containing:\n",
            "tensor([ 3.1684, -0.5774, -0.1244,  1.1653, -0.1583], requires_grad=True)\n",
            "\n",
            "iteration: 34147\n",
            "f_s: Parameter containing:\n",
            "tensor([2.3550], requires_grad=True)\n",
            "f_d: Parameter containing:\n",
            "tensor([4.7151], requires_grad=True)\n",
            "s_w: Parameter containing:\n",
            "tensor([ 3.1764, -0.5792, -0.1272,  1.1735, -0.1324], requires_grad=True)\n",
            "\n",
            "iteration: 39838\n",
            "f_s: Parameter containing:\n",
            "tensor([2.4223], requires_grad=True)\n",
            "f_d: Parameter containing:\n",
            "tensor([4.6897], requires_grad=True)\n",
            "s_w: Parameter containing:\n",
            "tensor([ 3.1866, -0.5763, -0.1261,  1.1830, -0.1039], requires_grad=True)\n",
            "\n",
            "iteration: 45529\n",
            "f_s: Parameter containing:\n",
            "tensor([2.4681], requires_grad=True)\n",
            "f_d: Parameter containing:\n",
            "tensor([4.6696], requires_grad=True)\n",
            "s_w: Parameter containing:\n",
            "tensor([ 3.1863, -0.5861, -0.1340,  1.1820, -0.0845], requires_grad=True)\n",
            "\n",
            "iteration: 51220\n",
            "f_s: Parameter containing:\n",
            "tensor([2.5161], requires_grad=True)\n",
            "f_d: Parameter containing:\n",
            "tensor([4.6479], requires_grad=True)\n",
            "s_w: Parameter containing:\n",
            "tensor([ 3.1876, -0.5955, -0.1401,  1.1829, -0.0692], requires_grad=True)\n",
            "train: 100%|\u001b[31m██████████\u001b[0m| 56910/56910 [05:35<00:00, 169.47it/s]\n",
            "\n",
            "Training finished!\n"
          ]
        }
      ],
      "source": [
        "model = FSRS()\n",
        "clipper = WeightClipper()\n",
        "optimizer = torch.optim.Adam(model.parameters(), lr=1e-4, weight_decay=1e-5)\n",
        "\n",
        "dataset = pd.read_csv(\"./revlog_history.tsv\", sep='\\t', index_col=None)\n",
        "dataset = dataset[(dataset['i'] > 1) & (dataset['delta_t'] > 0)]\n",
        "dataset['tensor'] = dataset.progress_apply(lambda x: lineToTensor(list(zip([x['t_history']], [x['r_history']]))[0]),axis=1)\n",
        "print(\"Tensorized!\")\n",
        "\n",
        "n_epoch = 1\n",
        "print_len = dataset.shape[0] // 10\n",
        "\n",
        "checkpoint = {\n",
        "    \"net\": model.state_dict(),\n",
        "    'optimizer': optimizer.state_dict(),\n",
        "    \"epoch\": -1\n",
        "}\n",
        "\n",
        "for k in range(n_epoch):\n",
        "    dataset = shuffle(dataset, random_state=2022 + k)\n",
        "    epoch_len = len(dataset)\n",
        "    for i, (_, row) in enumerate(tqdm(dataset.iterrows(), total=epoch_len, desc=\"train\",file=sys.stdout, colour=\"red\")):\n",
        "        model.train()\n",
        "        optimizer.zero_grad()\n",
        "        output_t = [(model.zero, model.zero, model.zero)]\n",
        "        for input_t in row['tensor']:\n",
        "            output_t.append(model(input_t, *output_t[-1]))\n",
        "        loss = model.loss(output_t[-1][0], row['delta_t'], {1: 0, 2: 1, 3: 1, 4: 1}[row['r']])\n",
        "        if np.isnan(loss.data.item()):\n",
        "            # Exception Case\n",
        "            print(row)\n",
        "            continue\n",
        "        loss.backward()\n",
        "        optimizer.step()\n",
        "        model.apply(clipper)\n",
        "\n",
        "        if (k * epoch_len + i) % print_len == 0:\n",
        "            tqdm.write(f\"\\niteration: {k * epoch_len + i + 1}\")\n",
        "            for name, param in model.named_parameters():\n",
        "                tqdm.write(f\"{name}: {param}\")\n",
        "\n",
        "            checkpoint = {\n",
        "                \"net\": model.state_dict(),\n",
        "                \"optimizer\": optimizer.state_dict(),\n",
        "                \"iteration\": (k * epoch_len + i) // print_len\n",
        "            }\n",
        "\n",
        "end = datetime.datetime.now().strftime(\"%Y%m%d%H%M%S\")\n",
        "torch.save(checkpoint, f'./model-{end}.pth')\n",
        "\n",
        "defaultStability = round(float(dict(model.named_parameters())['f_s'].data),4)\n",
        "defaultDifficulty = round(float(dict(model.named_parameters())['f_d'].data),4)\n",
        "increaseFactor, difficultyDecay, stabilityDecay, retrievabilityFactor, lapsesBase = map(lambda x: round(float(x), 4), dict(model.named_parameters())['s_w'].data)\n",
        "\n",
        "print(\"\\nTraining finished!\")"
      ]
    },
    {
      "cell_type": "markdown",
      "metadata": {
        "id": "BZ4S2l7BWfzr"
      },
      "source": [
        "Copy the optimal parameters for FSRS for you in the output of next code cell after running.\n",
        "\n",
        "The code of Anki custom scheduling is at https://github.com/open-spaced-repetition/fsrs4anki"
      ]
    },
    {
      "cell_type": "code",
      "execution_count": 9,
      "metadata": {
        "colab": {
          "base_uri": "https://localhost:8080/"
        },
        "id": "NTnPSDA2QpUu",
        "outputId": "4a6a9361-39ad-40ce-e3e2-6aa3994df5e5"
      },
      "outputs": [
        {
          "name": "stdout",
          "output_type": "stream",
          "text": [
            "const defaultDifficulty = 4.6179;\n",
            "const defaultStability = 2.5636;\n",
            "const difficultyDecay = -0.5913;\n",
            "const stabilityDecay = -0.1382;\n",
            "const retrivabilityFactor = 1.1951;\n",
            "const increaseFactor = 3.201;\n",
            "const lapsesBase = -0.0562;\n"
          ]
        }
      ],
      "source": [
        "print(f\"const defaultDifficulty = {defaultDifficulty};\")\n",
        "print(f\"const defaultStability = {defaultStability};\")\n",
        "print(f\"const difficultyDecay = {difficultyDecay};\")\n",
        "print(f\"const stabilityDecay = {stabilityDecay};\")\n",
        "print(f\"const retrievabilityFactor = {retrievabilityFactor};\")\n",
        "print(f\"const increaseFactor = {increaseFactor};\")\n",
        "print(f\"const lapsesBase = {lapsesBase};\")"
      ]
    },
    {
      "cell_type": "markdown",
      "metadata": {
        "id": "I_zsoDyTaTrT"
      },
      "source": [
        "You can see the memory states and intervals generated by FSRS as if you press the good in each review at the due date scheduled by FSRS."
      ]
    },
    {
      "cell_type": "code",
      "execution_count": 20,
      "metadata": {
        "colab": {
          "base_uri": "https://localhost:8080/"
        },
        "id": "iws4rtP1WKBT",
        "outputId": "484b522f-7d60-4adb-de59-03eaf1db8183"
      },
      "outputs": [
        {
          "name": "stdout",
          "output_type": "stream",
          "text": [
            "stability, difficulty, lapses\n",
            "(tensor(2.5636), tensor(4.6179), tensor(0.))\n",
            "(tensor(5.8480), tensor(4.6019), tensor(0.))\n",
            "(tensor(11.7162), tensor(4.5994), tensor(0.))\n",
            "(tensor(22.3811), tensor(4.5971), tensor(0.))\n",
            "(tensor(40.2613), tensor(4.5988), tensor(0.))\n",
            "(tensor(70.2326), tensor(4.5994), tensor(0.))\n",
            "(tensor(118.7977), tensor(4.5997), tensor(0.))\n",
            "(tensor(195.5733), tensor(4.5995), tensor(0.))\n",
            "(tensor(313.6115), tensor(4.5993), tensor(0.))\n",
            "(tensor(490.7703), tensor(4.5992), tensor(0.))\n",
            "(tensor(751.1708), tensor(4.5992), tensor(0.))\n",
            "(tensor(1126.7085), tensor(4.5992), tensor(0.))\n",
            "(tensor(1659.5585), tensor(4.5992), tensor(0.))\n",
            "(tensor(2403.5166), tensor(4.5991), tensor(0.))\n",
            "(tensor(3427.1553), tensor(4.5991), tensor(0.))\n",
            "0,3,6,12,22,40,70,119,196,314,491,751,1127,1660,2404,3427\n"
          ]
        }
      ],
      "source": [
        "requestRetention = 0.9\n",
        "\n",
        "class Collection:\n",
        "    def __init__(self):\n",
        "        self.model = model\n",
        "\n",
        "    def states(self, t_history, r_history):\n",
        "        with torch.no_grad():\n",
        "            line_tensor = lineToTensor(list(zip([t_history], [r_history]))[0])\n",
        "            output_t = [(self.model.zero, self.model.zero, self.model.zero)]\n",
        "            for input_t in line_tensor:\n",
        "                output_t.append(self.model(input_t, *output_t[-1]))\n",
        "            return output_t[-1]\n",
        "\n",
        "my_collection = Collection()\n",
        "t_history = \"0\"\n",
        "r_history = \"3\"\n",
        "print(\"stability, difficulty, lapses\")\n",
        "for i in range(15):\n",
        "    states = my_collection.states(t_history, r_history)\n",
        "    print(states)\n",
        "    next_t = round(float(np.log(requestRetention)/np.log(0.9) * states[0]))\n",
        "    t_history += f',{int(next_t)}'\n",
        "    r_history += f\",3\"\n",
        "print(t_history)"
      ]
    }
  ],
  "metadata": {
    "accelerator": "GPU",
    "colab": {
      "authorship_tag": "ABX9TyM2gJf+dAt2ygP46JpqAlVz",
      "collapsed_sections": [],
      "include_colab_link": true,
      "provenance": []
    },
    "kernelspec": {
      "display_name": "Python 3",
      "name": "python3"
    },
    "language_info": {
      "name": "python"
    }
  },
  "nbformat": 4,
  "nbformat_minor": 0
}
